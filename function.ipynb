{
 "cells": [
  {
   "cell_type": "code",
   "execution_count": 1,
   "metadata": {},
   "outputs": [],
   "source": [
    "import turicreate "
   ]
  },
  {
   "cell_type": "code",
   "execution_count": 11,
   "metadata": {},
   "outputs": [
    {
     "data": {
      "text/html": [
       "<pre>Finished parsing file /home/vijay/Desktop/Coursera/Spamv2/noSpam-master/SMSSpamCollection</pre>"
      ],
      "text/plain": [
       "Finished parsing file /home/vijay/Desktop/Coursera/Spamv2/noSpam-master/SMSSpamCollection"
      ]
     },
     "metadata": {},
     "output_type": "display_data"
    },
    {
     "data": {
      "text/html": [
       "<pre>Parsing completed. Parsed 100 lines in 0.037998 secs.</pre>"
      ],
      "text/plain": [
       "Parsing completed. Parsed 100 lines in 0.037998 secs."
      ]
     },
     "metadata": {},
     "output_type": "display_data"
    },
    {
     "name": "stdout",
     "output_type": "stream",
     "text": [
      "------------------------------------------------------\n",
      "Inferred types from first 100 line(s) of file as \n",
      "column_type_hints=[str,str]\n",
      "If parsing fails due to incorrect types, you can correct\n",
      "the inferred type list above and pass it to read_csv in\n",
      "the column_type_hints argument\n",
      "------------------------------------------------------\n"
     ]
    },
    {
     "data": {
      "text/html": [
       "<pre>Finished parsing file /home/vijay/Desktop/Coursera/Spamv2/noSpam-master/SMSSpamCollection</pre>"
      ],
      "text/plain": [
       "Finished parsing file /home/vijay/Desktop/Coursera/Spamv2/noSpam-master/SMSSpamCollection"
      ]
     },
     "metadata": {},
     "output_type": "display_data"
    },
    {
     "data": {
      "text/html": [
       "<pre>Parsing completed. Parsed 5574 lines in 0.037241 secs.</pre>"
      ],
      "text/plain": [
       "Parsing completed. Parsed 5574 lines in 0.037241 secs."
      ]
     },
     "metadata": {},
     "output_type": "display_data"
    }
   ],
   "source": [
    "data = turicreate.SFrame.read_csv('SMSSpamCollection', header=False, delimiter='\\t', quote_char='\\0')"
   ]
  },
  {
   "cell_type": "code",
   "execution_count": 26,
   "metadata": {},
   "outputs": [],
   "source": [
    "data = data.rename({'X1': 'label', 'X2': 'text'})\n"
   ]
  },
  {
   "cell_type": "code",
   "execution_count": 27,
   "metadata": {},
   "outputs": [],
   "source": [
    "train, test = data.random_split(0.8)"
   ]
  },
  {
   "cell_type": "code",
   "execution_count": 28,
   "metadata": {},
   "outputs": [
    {
     "name": "stdout",
     "output_type": "stream",
     "text": [
      "PROGRESS: Creating a validation set from 5 percent of training data. This may take a while.\n",
      "          You can set ``validation_set=None`` to disable validation tracking.\n",
      "\n"
     ]
    },
    {
     "data": {
      "text/html": [
       "<pre>Logistic regression:</pre>"
      ],
      "text/plain": [
       "Logistic regression:"
      ]
     },
     "metadata": {},
     "output_type": "display_data"
    },
    {
     "data": {
      "text/html": [
       "<pre>--------------------------------------------------------</pre>"
      ],
      "text/plain": [
       "--------------------------------------------------------"
      ]
     },
     "metadata": {},
     "output_type": "display_data"
    },
    {
     "data": {
      "text/html": [
       "<pre>Number of examples          : 4247</pre>"
      ],
      "text/plain": [
       "Number of examples          : 4247"
      ]
     },
     "metadata": {},
     "output_type": "display_data"
    },
    {
     "data": {
      "text/html": [
       "<pre>Number of classes           : 2</pre>"
      ],
      "text/plain": [
       "Number of classes           : 2"
      ]
     },
     "metadata": {},
     "output_type": "display_data"
    },
    {
     "data": {
      "text/html": [
       "<pre>Number of feature columns   : 1</pre>"
      ],
      "text/plain": [
       "Number of feature columns   : 1"
      ]
     },
     "metadata": {},
     "output_type": "display_data"
    },
    {
     "data": {
      "text/html": [
       "<pre>Number of unpacked features : 3485</pre>"
      ],
      "text/plain": [
       "Number of unpacked features : 3485"
      ]
     },
     "metadata": {},
     "output_type": "display_data"
    },
    {
     "data": {
      "text/html": [
       "<pre>Number of coefficients      : 3486</pre>"
      ],
      "text/plain": [
       "Number of coefficients      : 3486"
      ]
     },
     "metadata": {},
     "output_type": "display_data"
    },
    {
     "data": {
      "text/html": [
       "<pre>Starting L-BFGS</pre>"
      ],
      "text/plain": [
       "Starting L-BFGS"
      ]
     },
     "metadata": {},
     "output_type": "display_data"
    },
    {
     "data": {
      "text/html": [
       "<pre>--------------------------------------------------------</pre>"
      ],
      "text/plain": [
       "--------------------------------------------------------"
      ]
     },
     "metadata": {},
     "output_type": "display_data"
    },
    {
     "data": {
      "text/html": [
       "<pre>+-----------+----------+-----------+--------------+-------------------+---------------------+</pre>"
      ],
      "text/plain": [
       "+-----------+----------+-----------+--------------+-------------------+---------------------+"
      ]
     },
     "metadata": {},
     "output_type": "display_data"
    },
    {
     "data": {
      "text/html": [
       "<pre>| Iteration | Passes   | Step size | Elapsed Time | Training Accuracy | Validation Accuracy |</pre>"
      ],
      "text/plain": [
       "| Iteration | Passes   | Step size | Elapsed Time | Training Accuracy | Validation Accuracy |"
      ]
     },
     "metadata": {},
     "output_type": "display_data"
    },
    {
     "data": {
      "text/html": [
       "<pre>+-----------+----------+-----------+--------------+-------------------+---------------------+</pre>"
      ],
      "text/plain": [
       "+-----------+----------+-----------+--------------+-------------------+---------------------+"
      ]
     },
     "metadata": {},
     "output_type": "display_data"
    },
    {
     "data": {
      "text/html": [
       "<pre>| 0         | 2        | 1.000000  | 1.028871     | 0.986814          | 0.977679            |</pre>"
      ],
      "text/plain": [
       "| 0         | 2        | 1.000000  | 1.028871     | 0.986814          | 0.977679            |"
      ]
     },
     "metadata": {},
     "output_type": "display_data"
    },
    {
     "data": {
      "text/html": [
       "<pre>| 1         | 4        | 1.000000  | 1.051013     | 0.992465          | 0.977679            |</pre>"
      ],
      "text/plain": [
       "| 1         | 4        | 1.000000  | 1.051013     | 0.992465          | 0.977679            |"
      ]
     },
     "metadata": {},
     "output_type": "display_data"
    },
    {
     "data": {
      "text/html": [
       "<pre>| 2         | 6        | 1.000000  | 1.069198     | 0.995055          | 0.982143            |</pre>"
      ],
      "text/plain": [
       "| 2         | 6        | 1.000000  | 1.069198     | 0.995055          | 0.982143            |"
      ]
     },
     "metadata": {},
     "output_type": "display_data"
    },
    {
     "data": {
      "text/html": [
       "<pre>| 3         | 7        | 1.000000  | 1.081036     | 0.997410          | 0.982143            |</pre>"
      ],
      "text/plain": [
       "| 3         | 7        | 1.000000  | 1.081036     | 0.997410          | 0.982143            |"
      ]
     },
     "metadata": {},
     "output_type": "display_data"
    },
    {
     "data": {
      "text/html": [
       "<pre>| 4         | 8        | 1.000000  | 1.093957     | 0.997881          | 0.982143            |</pre>"
      ],
      "text/plain": [
       "| 4         | 8        | 1.000000  | 1.093957     | 0.997881          | 0.982143            |"
      ]
     },
     "metadata": {},
     "output_type": "display_data"
    },
    {
     "data": {
      "text/html": [
       "<pre>| 9         | 14       | 1.000000  | 1.169539     | 0.999765          | 0.982143            |</pre>"
      ],
      "text/plain": [
       "| 9         | 14       | 1.000000  | 1.169539     | 0.999765          | 0.982143            |"
      ]
     },
     "metadata": {},
     "output_type": "display_data"
    },
    {
     "data": {
      "text/html": [
       "<pre>| 44        | 58       | 1.000000  | 1.673500     | 1.000000          | 0.964286            |</pre>"
      ],
      "text/plain": [
       "| 44        | 58       | 1.000000  | 1.673500     | 1.000000          | 0.964286            |"
      ]
     },
     "metadata": {},
     "output_type": "display_data"
    },
    {
     "data": {
      "text/html": [
       "<pre>+-----------+----------+-----------+--------------+-------------------+---------------------+</pre>"
      ],
      "text/plain": [
       "+-----------+----------+-----------+--------------+-------------------+---------------------+"
      ]
     },
     "metadata": {},
     "output_type": "display_data"
    }
   ],
   "source": [
    "model = turicreate.text_classifier.create(train, 'label', features=['text'], max_iterations=100000)"
   ]
  },
  {
   "cell_type": "code",
   "execution_count": 34,
   "metadata": {},
   "outputs": [],
   "source": [
    "def predict(s):\n",
    "    x = turicreate.SFrame({'text':[s]})\n",
    "    print(model.predict(x))"
   ]
  },
  {
   "cell_type": "code",
   "execution_count": 38,
   "metadata": {},
   "outputs": [
    {
     "name": "stdout",
     "output_type": "stream",
     "text": [
      "['spam']\n"
     ]
    }
   ],
   "source": [
    "predict(\"Free entry in 2 a wkly comp to win FA Cup final tkts 21st May 2005. Text FA to 87121 to receive entry question(std txt rate)T&C's apply 08452810075over18's\")"
   ]
  },
  {
   "cell_type": "code",
   "execution_count": 40,
   "metadata": {},
   "outputs": [
    {
     "name": "stdout",
     "output_type": "stream",
     "text": [
      "['spam']\n",
      "['spam']\n",
      "['spam']\n",
      "['spam']\n",
      "['spam']\n",
      "['spam']\n",
      "['spam']\n",
      "['spam']\n",
      "['spam']\n",
      "['spam']\n",
      "['spam']\n",
      "['spam']\n",
      "['spam']\n",
      "['spam']\n",
      "['spam']\n",
      "['spam']\n",
      "['spam']\n",
      "['spam']\n",
      "['spam']\n",
      "['spam']\n",
      "['spam']\n",
      "['spam']\n",
      "['spam']\n",
      "['spam']\n",
      "['ham']\n",
      "['spam']\n",
      "['spam']\n",
      "['spam']\n",
      "['spam']\n",
      "['spam']\n",
      "['spam']\n",
      "['spam']\n",
      "['spam']\n",
      "['spam']\n",
      "['ham']\n",
      "['spam']\n",
      "['spam']\n",
      "['spam']\n",
      "['spam']\n",
      "['spam']\n",
      "['spam']\n",
      "['spam']\n",
      "['spam']\n",
      "['spam']\n",
      "['spam']\n",
      "['spam']\n",
      "['spam']\n",
      "['spam']\n",
      "['spam']\n",
      "['spam']\n",
      "['spam']\n",
      "['spam']\n",
      "['spam']\n",
      "['spam']\n",
      "['spam']\n",
      "['spam']\n",
      "['spam']\n",
      "['spam']\n",
      "['spam']\n",
      "['spam']\n",
      "['spam']\n",
      "['spam']\n",
      "['spam']\n",
      "['spam']\n",
      "['spam']\n",
      "['spam']\n",
      "['spam']\n",
      "['spam']\n",
      "['spam']\n",
      "['spam']\n",
      "['spam']\n",
      "['spam']\n",
      "['spam']\n",
      "['spam']\n",
      "['spam']\n",
      "['spam']\n",
      "['spam']\n",
      "['spam']\n",
      "['spam']\n",
      "['spam']\n",
      "['spam']\n",
      "['spam']\n",
      "['spam']\n",
      "['spam']\n",
      "['spam']\n",
      "['spam']\n",
      "['spam']\n",
      "['spam']\n",
      "['spam']\n",
      "['spam']\n",
      "['spam']\n",
      "['spam']\n",
      "['spam']\n",
      "['spam']\n",
      "['spam']\n",
      "['spam']\n",
      "['spam']\n",
      "['spam']\n",
      "['ham']\n",
      "['spam']\n",
      "['spam']\n",
      "['spam']\n",
      "['spam']\n",
      "['spam']\n",
      "['spam']\n",
      "['spam']\n",
      "['spam']\n",
      "['spam']\n",
      "['spam']\n",
      "['spam']\n",
      "['spam']\n",
      "['spam']\n",
      "['spam']\n",
      "['spam']\n",
      "['spam']\n",
      "['spam']\n",
      "['spam']\n",
      "['spam']\n",
      "['spam']\n",
      "['spam']\n",
      "['spam']\n",
      "['spam']\n",
      "['spam']\n",
      "['spam']\n",
      "['spam']\n",
      "['spam']\n",
      "['spam']\n",
      "['spam']\n",
      "['spam']\n",
      "['spam']\n",
      "['spam']\n",
      "['spam']\n",
      "['spam']\n",
      "['spam']\n",
      "['spam']\n",
      "['spam']\n",
      "['spam']\n",
      "['spam']\n",
      "['spam']\n",
      "['spam']\n",
      "['spam']\n",
      "['spam']\n",
      "['spam']\n",
      "['spam']\n",
      "['spam']\n",
      "['spam']\n",
      "['spam']\n",
      "['spam']\n",
      "['spam']\n",
      "['spam']\n",
      "['spam']\n",
      "['spam']\n",
      "['spam']\n",
      "['spam']\n",
      "['spam']\n",
      "['spam']\n",
      "['spam']\n",
      "['ham']\n",
      "['spam']\n",
      "['spam']\n",
      "['spam']\n",
      "['spam']\n",
      "['spam']\n",
      "['spam']\n",
      "['spam']\n",
      "['spam']\n",
      "['spam']\n",
      "['spam']\n",
      "['spam']\n",
      "['spam']\n",
      "['spam']\n",
      "['spam']\n",
      "['spam']\n",
      "['spam']\n",
      "['spam']\n",
      "['spam']\n",
      "['spam']\n",
      "['spam']\n",
      "['spam']\n",
      "['spam']\n",
      "['spam']\n",
      "['spam']\n",
      "['spam']\n",
      "['spam']\n",
      "['spam']\n",
      "['spam']\n",
      "['spam']\n",
      "['spam']\n",
      "['spam']\n",
      "['ham']\n",
      "['spam']\n",
      "['spam']\n",
      "['spam']\n",
      "['spam']\n",
      "['spam']\n",
      "['ham']\n",
      "['spam']\n",
      "['spam']\n",
      "['spam']\n",
      "['spam']\n",
      "['spam']\n",
      "['spam']\n",
      "['spam']\n",
      "['spam']\n",
      "['spam']\n",
      "['spam']\n",
      "['spam']\n",
      "['spam']\n",
      "['spam']\n",
      "['spam']\n",
      "['spam']\n",
      "['spam']\n",
      "['spam']\n",
      "['spam']\n",
      "['spam']\n",
      "['spam']\n",
      "['spam']\n",
      "['spam']\n",
      "['spam']\n",
      "['spam']\n",
      "['spam']\n",
      "['spam']\n",
      "['spam']\n",
      "['spam']\n",
      "['spam']\n",
      "['spam']\n",
      "['spam']\n",
      "['spam']\n",
      "['spam']\n",
      "['ham']\n",
      "['spam']\n",
      "['spam']\n",
      "['spam']\n",
      "['spam']\n",
      "['spam']\n",
      "['spam']\n",
      "['spam']\n",
      "['spam']\n",
      "['spam']\n",
      "['spam']\n",
      "['spam']\n",
      "['spam']\n",
      "['spam']\n",
      "['spam']\n",
      "['spam']\n",
      "['spam']\n",
      "['spam']\n",
      "['spam']\n",
      "['spam']\n",
      "['spam']\n",
      "['spam']\n",
      "['spam']\n",
      "['spam']\n",
      "['spam']\n",
      "['spam']\n",
      "['spam']\n",
      "['spam']\n",
      "['spam']\n",
      "['spam']\n",
      "['spam']\n",
      "['spam']\n",
      "['spam']\n",
      "['spam']\n",
      "['spam']\n",
      "['spam']\n",
      "['spam']\n",
      "['spam']\n",
      "['spam']\n",
      "['spam']\n",
      "['spam']\n",
      "['spam']\n",
      "['spam']\n",
      "['spam']\n",
      "['spam']\n",
      "['spam']\n",
      "['spam']\n",
      "['spam']\n",
      "['spam']\n",
      "['spam']\n",
      "['spam']\n",
      "['spam']\n",
      "['spam']\n",
      "['spam']\n",
      "['spam']\n",
      "['spam']\n",
      "['spam']\n",
      "['spam']\n",
      "['spam']\n",
      "['spam']\n",
      "['spam']\n",
      "['spam']\n",
      "['spam']\n",
      "['spam']\n",
      "['spam']\n",
      "['spam']\n",
      "['spam']\n",
      "['spam']\n",
      "['spam']\n",
      "['spam']\n",
      "['spam']\n",
      "['spam']\n",
      "['spam']\n",
      "['spam']\n",
      "['spam']\n",
      "['spam']\n",
      "['spam']\n",
      "['spam']\n",
      "['spam']\n",
      "['spam']\n",
      "['spam']\n",
      "['spam']\n",
      "['spam']\n",
      "['spam']\n",
      "['spam']\n",
      "['spam']\n",
      "['spam']\n",
      "['spam']\n",
      "['spam']\n",
      "['spam']\n",
      "['spam']\n",
      "['spam']\n",
      "['spam']\n",
      "['spam']\n",
      "['spam']\n",
      "['spam']\n",
      "['spam']\n",
      "['spam']\n",
      "['spam']\n",
      "['spam']\n",
      "['spam']\n",
      "['spam']\n",
      "['spam']\n",
      "['spam']\n",
      "['spam']\n",
      "['spam']\n",
      "['spam']\n",
      "['spam']\n",
      "['spam']\n",
      "['spam']\n",
      "['spam']\n",
      "['spam']\n",
      "['spam']\n",
      "['spam']\n",
      "['spam']\n",
      "['spam']\n",
      "['spam']\n",
      "['spam']\n",
      "['spam']\n",
      "['spam']\n",
      "['spam']\n",
      "['spam']\n",
      "['spam']\n",
      "['spam']\n",
      "['spam']\n",
      "['spam']\n",
      "['spam']\n",
      "['spam']\n",
      "['spam']\n",
      "['spam']\n",
      "['spam']\n",
      "['spam']\n",
      "['spam']\n",
      "['spam']\n",
      "['spam']\n",
      "['spam']\n",
      "['spam']\n",
      "['spam']\n",
      "['spam']\n",
      "['spam']\n",
      "['spam']\n",
      "['spam']\n",
      "['spam']\n",
      "['spam']\n",
      "['spam']\n",
      "['spam']\n",
      "['spam']\n",
      "['spam']\n",
      "['spam']\n",
      "['spam']\n",
      "['spam']\n",
      "['spam']\n",
      "['spam']\n",
      "['spam']\n",
      "['spam']\n",
      "['spam']\n",
      "['spam']\n",
      "['spam']\n",
      "['spam']\n",
      "['spam']\n",
      "['spam']\n",
      "['spam']\n",
      "['spam']\n",
      "['spam']\n",
      "['spam']\n",
      "['spam']\n",
      "['spam']\n",
      "['spam']\n",
      "['spam']\n",
      "['spam']\n",
      "['ham']\n",
      "['spam']\n",
      "['spam']\n",
      "['spam']\n",
      "['spam']\n",
      "['spam']\n",
      "['spam']\n",
      "['spam']\n",
      "['spam']\n",
      "['spam']\n",
      "['spam']\n",
      "['spam']\n",
      "['spam']\n",
      "['spam']\n",
      "['spam']\n",
      "['spam']\n",
      "['spam']\n",
      "['spam']\n",
      "['spam']\n",
      "['spam']\n",
      "['spam']\n",
      "['spam']\n",
      "['spam']\n",
      "['spam']\n",
      "['spam']\n",
      "['spam']\n",
      "['spam']\n",
      "['spam']\n",
      "['spam']\n",
      "['spam']\n",
      "['spam']\n",
      "['spam']\n",
      "['spam']\n",
      "['spam']\n",
      "['spam']\n",
      "['spam']\n",
      "['spam']\n",
      "['spam']\n",
      "['spam']\n",
      "['spam']\n",
      "['spam']\n",
      "['spam']\n",
      "['spam']\n",
      "['spam']\n",
      "['spam']\n",
      "['spam']\n",
      "['spam']\n",
      "['spam']\n",
      "['spam']\n",
      "['spam']\n",
      "['spam']\n",
      "['spam']\n",
      "['spam']\n",
      "['spam']\n",
      "['spam']\n",
      "['spam']\n",
      "['spam']\n",
      "['spam']\n",
      "['spam']\n",
      "['spam']\n",
      "['spam']\n",
      "['spam']\n",
      "['spam']\n",
      "['spam']\n",
      "['spam']\n",
      "['spam']\n",
      "['spam']\n",
      "['spam']\n",
      "['spam']\n",
      "['spam']\n",
      "['spam']\n",
      "['spam']\n",
      "['spam']\n",
      "['spam']\n",
      "['spam']\n",
      "['spam']\n",
      "['ham']\n",
      "['ham']\n",
      "['spam']\n",
      "['spam']\n",
      "['spam']\n",
      "['spam']\n",
      "['spam']\n",
      "['spam']\n",
      "['spam']\n",
      "['spam']\n",
      "['spam']\n",
      "['spam']\n",
      "['spam']\n",
      "['spam']\n",
      "['spam']\n",
      "['spam']\n",
      "['spam']\n",
      "['spam']\n",
      "['spam']\n",
      "['spam']\n",
      "['spam']\n",
      "['spam']\n",
      "['spam']\n",
      "['spam']\n",
      "['spam']\n",
      "['spam']\n",
      "['spam']\n",
      "['spam']\n",
      "['spam']\n",
      "['spam']\n",
      "['spam']\n",
      "['spam']\n",
      "['spam']\n",
      "['spam']\n",
      "['spam']\n",
      "['spam']\n",
      "['spam']\n",
      "['spam']\n",
      "['spam']\n",
      "['spam']\n",
      "['spam']\n",
      "['spam']\n",
      "['spam']\n",
      "['spam']\n",
      "['spam']\n",
      "['spam']\n",
      "['spam']\n",
      "['spam']\n",
      "['spam']\n",
      "['spam']\n",
      "['spam']\n",
      "['spam']\n",
      "['spam']\n",
      "['spam']\n",
      "['spam']\n",
      "['spam']\n",
      "['spam']\n",
      "['spam']\n",
      "['spam']\n",
      "['spam']\n",
      "['spam']\n",
      "['spam']\n",
      "['spam']\n",
      "['spam']\n",
      "['spam']\n",
      "['spam']\n",
      "['spam']\n",
      "['spam']\n",
      "['spam']\n",
      "['spam']\n",
      "['spam']\n",
      "['ham']\n",
      "['ham']\n",
      "['spam']\n",
      "['spam']\n",
      "['spam']\n",
      "['spam']\n",
      "['spam']\n",
      "['spam']\n",
      "['spam']\n",
      "['spam']\n",
      "['spam']\n",
      "['spam']\n",
      "['spam']\n",
      "['spam']\n",
      "['spam']\n",
      "['spam']\n",
      "['spam']\n",
      "['spam']\n",
      "['spam']\n",
      "['spam']\n",
      "['spam']\n",
      "['spam']\n",
      "['spam']\n",
      "['spam']\n",
      "['spam']\n",
      "['spam']\n",
      "['spam']\n",
      "['spam']\n",
      "['spam']\n",
      "['spam']\n",
      "['ham']\n",
      "['ham']\n",
      "['spam']\n",
      "['spam']\n",
      "['spam']\n",
      "['spam']\n",
      "['spam']\n",
      "['spam']\n",
      "['spam']\n",
      "['spam']\n",
      "['spam']\n",
      "['spam']\n",
      "['spam']\n",
      "['spam']\n",
      "['spam']\n",
      "['spam']\n",
      "['spam']\n",
      "['ham']\n",
      "['spam']\n",
      "['spam']\n",
      "['spam']\n",
      "['spam']\n",
      "['spam']\n",
      "['spam']\n",
      "['spam']\n",
      "['spam']\n",
      "['spam']\n",
      "['spam']\n",
      "['spam']\n",
      "['spam']\n",
      "['spam']\n",
      "['spam']\n",
      "['spam']\n",
      "['spam']\n",
      "['spam']\n",
      "['spam']\n",
      "['spam']\n",
      "['spam']\n",
      "['spam']\n",
      "['spam']\n",
      "['spam']\n",
      "['spam']\n",
      "['spam']\n",
      "['spam']\n",
      "['spam']\n",
      "['spam']\n",
      "['spam']\n",
      "['spam']\n",
      "['spam']\n",
      "['spam']\n",
      "['spam']\n",
      "['spam']\n",
      "['spam']\n",
      "['spam']\n",
      "['spam']\n",
      "['spam']\n",
      "['spam']\n",
      "['spam']\n",
      "['spam']\n",
      "['spam']\n",
      "['spam']\n",
      "['spam']\n",
      "['spam']\n",
      "['spam']\n",
      "['spam']\n",
      "['spam']\n",
      "['spam']\n",
      "['spam']\n",
      "['spam']\n",
      "['spam']\n",
      "['spam']\n",
      "['spam']\n",
      "['spam']\n",
      "['spam']\n",
      "['spam']\n",
      "['spam']\n",
      "['spam']\n",
      "['spam']\n",
      "['spam']\n",
      "['spam']\n",
      "['spam']\n",
      "['spam']\n",
      "['spam']\n",
      "['spam']\n",
      "['spam']\n",
      "['spam']\n",
      "['spam']\n",
      "['spam']\n",
      "['spam']\n",
      "['spam']\n",
      "['ham']\n",
      "['spam']\n",
      "['spam']\n",
      "['spam']\n",
      "['spam']\n",
      "['spam']\n",
      "['spam']\n",
      "['spam']\n",
      "['spam']\n",
      "['spam']\n",
      "['spam']\n",
      "['spam']\n",
      "['spam']\n",
      "['spam']\n",
      "['spam']\n",
      "['spam']\n",
      "['spam']\n",
      "['spam']\n",
      "['spam']\n",
      "['spam']\n",
      "['spam']\n",
      "['spam']\n",
      "['spam']\n",
      "['spam']\n",
      "['spam']\n",
      "['spam']\n",
      "['spam']\n",
      "['spam']\n",
      "['ham']\n",
      "['spam']\n",
      "['spam']\n",
      "['spam']\n",
      "['spam']\n",
      "['spam']\n",
      "['spam']\n",
      "['spam']\n",
      "['spam']\n",
      "['spam']\n",
      "['spam']\n",
      "['spam']\n",
      "['spam']\n",
      "['spam']\n",
      "['spam']\n",
      "['spam']\n",
      "['spam']\n",
      "['spam']\n",
      "['spam']\n",
      "['spam']\n",
      "['spam']\n",
      "['spam']\n",
      "['spam']\n",
      "['spam']\n",
      "['spam']\n",
      "['spam']\n",
      "['spam']\n",
      "['spam']\n",
      "['spam']\n",
      "['spam']\n",
      "['spam']\n",
      "['spam']\n",
      "['spam']\n",
      "['spam']\n",
      "['spam']\n",
      "['spam']\n",
      "['spam']\n",
      "['spam']\n",
      "['spam']\n",
      "['spam']\n",
      "['spam']\n",
      "['spam']\n",
      "['spam']\n",
      "['spam']\n",
      "['spam']\n",
      "['spam']\n",
      "['spam']\n",
      "['spam']\n",
      "['spam']\n",
      "['ham']\n",
      "['spam']\n",
      "['spam']\n",
      "['spam']\n"
     ]
    }
   ],
   "source": [
    "c = 0\n",
    "for i in spam:\n",
    "    x = predict(i['X2'])\n",
    "    if x == 'spam':\n",
    "        c+=1"
   ]
  },
  {
   "cell_type": "code",
   "execution_count": 41,
   "metadata": {},
   "outputs": [
    {
     "data": {
      "text/plain": [
       "0"
      ]
     },
     "execution_count": 41,
     "metadata": {},
     "output_type": "execute_result"
    }
   ],
   "source": [
    "c"
   ]
  },
  {
   "cell_type": "markdown",
   "metadata": {},
   "source": [
    "# Function"
   ]
  },
  {
   "cell_type": "code",
   "execution_count": 42,
   "metadata": {},
   "outputs": [],
   "source": [
    "def predictValue(s):\n",
    "    data = turicreate.SFrame.read_csv('SMSSpamCollection', header=False, delimiter='\\t', quote_char='\\0')\n",
    "    data = data.rename({'X1': 'label', 'X2': 'text'})\n",
    "    train, test = data.random_split(0.8)\n",
    "    model = turicreate.text_classifier.create(train, 'label', features=['text'], max_iterations=10000)\n",
    "    x = turicreate.SFrame({'text':[s]})\n",
    "    return model.predict(x)\n",
    "    \n",
    "\n",
    "\n",
    "    "
   ]
  },
  {
   "cell_type": "code",
   "execution_count": 45,
   "metadata": {},
   "outputs": [
    {
     "data": {
      "text/plain": [
       "\"Free entry in 2 a wkly comp to win FA Cup final tkts 21st May 2005. Text FA to 87121 to receive entry question(std txt rate)T&C's apply 08452810075over18's\""
      ]
     },
     "execution_count": 45,
     "metadata": {},
     "output_type": "execute_result"
    }
   ],
   "source": [
    "spam[0]['X2']"
   ]
  },
  {
   "cell_type": "code",
   "execution_count": 46,
   "metadata": {},
   "outputs": [
    {
     "data": {
      "text/html": [
       "<pre>Finished parsing file /home/vijay/Desktop/Coursera/Spamv2/noSpam-master/SMSSpamCollection</pre>"
      ],
      "text/plain": [
       "Finished parsing file /home/vijay/Desktop/Coursera/Spamv2/noSpam-master/SMSSpamCollection"
      ]
     },
     "metadata": {},
     "output_type": "display_data"
    },
    {
     "data": {
      "text/html": [
       "<pre>Parsing completed. Parsed 100 lines in 0.035077 secs.</pre>"
      ],
      "text/plain": [
       "Parsing completed. Parsed 100 lines in 0.035077 secs."
      ]
     },
     "metadata": {},
     "output_type": "display_data"
    },
    {
     "name": "stdout",
     "output_type": "stream",
     "text": [
      "------------------------------------------------------\n",
      "Inferred types from first 100 line(s) of file as \n",
      "column_type_hints=[str,str]\n",
      "If parsing fails due to incorrect types, you can correct\n",
      "the inferred type list above and pass it to read_csv in\n",
      "the column_type_hints argument\n",
      "------------------------------------------------------\n"
     ]
    },
    {
     "data": {
      "text/html": [
       "<pre>Finished parsing file /home/vijay/Desktop/Coursera/Spamv2/noSpam-master/SMSSpamCollection</pre>"
      ],
      "text/plain": [
       "Finished parsing file /home/vijay/Desktop/Coursera/Spamv2/noSpam-master/SMSSpamCollection"
      ]
     },
     "metadata": {},
     "output_type": "display_data"
    },
    {
     "data": {
      "text/html": [
       "<pre>Parsing completed. Parsed 5574 lines in 0.036015 secs.</pre>"
      ],
      "text/plain": [
       "Parsing completed. Parsed 5574 lines in 0.036015 secs."
      ]
     },
     "metadata": {},
     "output_type": "display_data"
    },
    {
     "name": "stdout",
     "output_type": "stream",
     "text": [
      "PROGRESS: Creating a validation set from 5 percent of training data. This may take a while.\n",
      "          You can set ``validation_set=None`` to disable validation tracking.\n",
      "\n"
     ]
    },
    {
     "data": {
      "text/html": [
       "<pre>Logistic regression:</pre>"
      ],
      "text/plain": [
       "Logistic regression:"
      ]
     },
     "metadata": {},
     "output_type": "display_data"
    },
    {
     "data": {
      "text/html": [
       "<pre>--------------------------------------------------------</pre>"
      ],
      "text/plain": [
       "--------------------------------------------------------"
      ]
     },
     "metadata": {},
     "output_type": "display_data"
    },
    {
     "data": {
      "text/html": [
       "<pre>Number of examples          : 4239</pre>"
      ],
      "text/plain": [
       "Number of examples          : 4239"
      ]
     },
     "metadata": {},
     "output_type": "display_data"
    },
    {
     "data": {
      "text/html": [
       "<pre>Number of classes           : 2</pre>"
      ],
      "text/plain": [
       "Number of classes           : 2"
      ]
     },
     "metadata": {},
     "output_type": "display_data"
    },
    {
     "data": {
      "text/html": [
       "<pre>Number of feature columns   : 1</pre>"
      ],
      "text/plain": [
       "Number of feature columns   : 1"
      ]
     },
     "metadata": {},
     "output_type": "display_data"
    },
    {
     "data": {
      "text/html": [
       "<pre>Number of unpacked features : 3403</pre>"
      ],
      "text/plain": [
       "Number of unpacked features : 3403"
      ]
     },
     "metadata": {},
     "output_type": "display_data"
    },
    {
     "data": {
      "text/html": [
       "<pre>Number of coefficients      : 3404</pre>"
      ],
      "text/plain": [
       "Number of coefficients      : 3404"
      ]
     },
     "metadata": {},
     "output_type": "display_data"
    },
    {
     "data": {
      "text/html": [
       "<pre>Starting L-BFGS</pre>"
      ],
      "text/plain": [
       "Starting L-BFGS"
      ]
     },
     "metadata": {},
     "output_type": "display_data"
    },
    {
     "data": {
      "text/html": [
       "<pre>--------------------------------------------------------</pre>"
      ],
      "text/plain": [
       "--------------------------------------------------------"
      ]
     },
     "metadata": {},
     "output_type": "display_data"
    },
    {
     "data": {
      "text/html": [
       "<pre>+-----------+----------+-----------+--------------+-------------------+---------------------+</pre>"
      ],
      "text/plain": [
       "+-----------+----------+-----------+--------------+-------------------+---------------------+"
      ]
     },
     "metadata": {},
     "output_type": "display_data"
    },
    {
     "data": {
      "text/html": [
       "<pre>| Iteration | Passes   | Step size | Elapsed Time | Training Accuracy | Validation Accuracy |</pre>"
      ],
      "text/plain": [
       "| Iteration | Passes   | Step size | Elapsed Time | Training Accuracy | Validation Accuracy |"
      ]
     },
     "metadata": {},
     "output_type": "display_data"
    },
    {
     "data": {
      "text/html": [
       "<pre>+-----------+----------+-----------+--------------+-------------------+---------------------+</pre>"
      ],
      "text/plain": [
       "+-----------+----------+-----------+--------------+-------------------+---------------------+"
      ]
     },
     "metadata": {},
     "output_type": "display_data"
    },
    {
     "data": {
      "text/html": [
       "<pre>| 0         | 2        | 1.000000  | 0.019534     | 0.985374          | 0.982143            |</pre>"
      ],
      "text/plain": [
       "| 0         | 2        | 1.000000  | 0.019534     | 0.985374          | 0.982143            |"
      ]
     },
     "metadata": {},
     "output_type": "display_data"
    },
    {
     "data": {
      "text/html": [
       "<pre>| 1         | 4        | 1.000000  | 0.037061     | 0.992923          | 0.982143            |</pre>"
      ],
      "text/plain": [
       "| 1         | 4        | 1.000000  | 0.037061     | 0.992923          | 0.982143            |"
      ]
     },
     "metadata": {},
     "output_type": "display_data"
    },
    {
     "data": {
      "text/html": [
       "<pre>| 2         | 6        | 1.000000  | 0.055720     | 0.996461          | 0.986607            |</pre>"
      ],
      "text/plain": [
       "| 2         | 6        | 1.000000  | 0.055720     | 0.996461          | 0.986607            |"
      ]
     },
     "metadata": {},
     "output_type": "display_data"
    },
    {
     "data": {
      "text/html": [
       "<pre>| 3         | 7        | 1.000000  | 0.069222     | 0.998113          | 0.991071            |</pre>"
      ],
      "text/plain": [
       "| 3         | 7        | 1.000000  | 0.069222     | 0.998113          | 0.991071            |"
      ]
     },
     "metadata": {},
     "output_type": "display_data"
    },
    {
     "data": {
      "text/html": [
       "<pre>| 4         | 8        | 1.000000  | 0.081340     | 0.998585          | 0.991071            |</pre>"
      ],
      "text/plain": [
       "| 4         | 8        | 1.000000  | 0.081340     | 0.998585          | 0.991071            |"
      ]
     },
     "metadata": {},
     "output_type": "display_data"
    },
    {
     "data": {
      "text/html": [
       "<pre>| 9         | 13       | 1.000000  | 0.148382     | 0.999764          | 0.986607            |</pre>"
      ],
      "text/plain": [
       "| 9         | 13       | 1.000000  | 0.148382     | 0.999764          | 0.986607            |"
      ]
     },
     "metadata": {},
     "output_type": "display_data"
    },
    {
     "data": {
      "text/html": [
       "<pre>| 44        | 57       | 1.000000  | 0.638786     | 1.000000          | 0.982143            |</pre>"
      ],
      "text/plain": [
       "| 44        | 57       | 1.000000  | 0.638786     | 1.000000          | 0.982143            |"
      ]
     },
     "metadata": {},
     "output_type": "display_data"
    },
    {
     "data": {
      "text/html": [
       "<pre>+-----------+----------+-----------+--------------+-------------------+---------------------+</pre>"
      ],
      "text/plain": [
       "+-----------+----------+-----------+--------------+-------------------+---------------------+"
      ]
     },
     "metadata": {},
     "output_type": "display_data"
    },
    {
     "data": {
      "text/plain": [
       "dtype: str\n",
       "Rows: 1\n",
       "['spam']"
      ]
     },
     "execution_count": 46,
     "metadata": {},
     "output_type": "execute_result"
    }
   ],
   "source": [
    "predictValue(\"Free entry in 2 a wkly comp to win FA Cup final tkts 21st May 2005. Text FA to 87121 to receive entry question(std txt rate)T&C's apply 08452810075over18's\")"
   ]
  },
  {
   "cell_type": "code",
   "execution_count": null,
   "metadata": {},
   "outputs": [],
   "source": []
  }
 ],
 "metadata": {
  "kernelspec": {
   "display_name": "Python 3.6.9 64-bit",
   "language": "python",
   "name": "python36964bitf8fde2016a27499fb8157e25bf3ebff3"
  },
  "language_info": {
   "codemirror_mode": {
    "name": "ipython",
    "version": 3
   },
   "file_extension": ".py",
   "mimetype": "text/x-python",
   "name": "python",
   "nbconvert_exporter": "python",
   "pygments_lexer": "ipython3",
   "version": "3.6.9"
  }
 },
 "nbformat": 4,
 "nbformat_minor": 2
}
